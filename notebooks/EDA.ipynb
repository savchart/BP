{
 "cells": [
  {
   "cell_type": "code",
   "id": "c3c54cef78d7f95f",
   "metadata": {
    "collapsed": true,
    "ExecuteTime": {
     "end_time": "2024-04-20T12:11:41.990770Z",
     "start_time": "2024-04-20T12:11:41.748147Z"
    }
   },
   "source": [
    "from collections import Counter\n",
    "\n",
    "import pandas as pd\n",
    "\n",
    "import seaborn as sns\n",
    "import matplotlib.pyplot as plt\n",
    "from matplotlib import gridspec\n",
    "\n",
    "from nltk import word_tokenize\n",
    "from tqdm.auto import tqdm"
   ],
   "execution_count": 2,
   "outputs": []
  },
  {
   "metadata": {
    "ExecuteTime": {
     "end_time": "2024-04-20T12:11:42.651255Z",
     "start_time": "2024-04-20T12:11:42.439295Z"
    }
   },
   "cell_type": "code",
   "source": [
    "import nltk\n",
    "\n",
    "nltk.download('punkt')"
   ],
   "id": "5519cbfcd4241302",
   "execution_count": 3,
   "outputs": []
  },
  {
   "metadata": {
    "ExecuteTime": {
     "end_time": "2024-04-15T14:42:11.651823Z",
     "start_time": "2024-04-15T14:42:09.060515Z"
    }
   },
   "cell_type": "code",
   "source": [
    "# Load the CSV file into a DataFrame\n",
    "df = pd.read_csv('../data/qa_finance.csv')\n",
    "\n",
    "df = df.dropna(subset=['Question Text', 'Answer Text'])\n",
    "df = df.drop_duplicates(subset=['Question Text', 'Answer Text'])\n",
    "df = df.reset_index(drop=True)\n",
    "\n",
    "df['Question Title'] = df['Question Title'].str.replace(r'\\r\\n|\\n|\\r', ' ', regex=True)\n",
    "df['Question Text'] = df['Question Text'].str.replace(r'\\r\\n|\\n|\\r', ' ', regex=True)\n",
    "df['Answer Text'] = df['Answer Text'].str.replace(r'\\r\\n|\\n|\\r', ' ', regex=True)\n",
    "\n",
    "df['Question Text'] = df['Question Text'].str.strip()\n",
    "df['Answer Text'] = df['Answer Text'].str.strip()\n",
    "\n",
    "df['Question Date'] = df['Question Date'].str.replace(r'\\d+\\.\\d+\\.-0001 \\d+:\\d+', 'NaN')\n",
    "df['Question Date'] = df['Question Date'].ffill()\n",
    "df['Question Date'] = pd.to_datetime(df['Question Date'], format='%d.%m.%Y %H:%M')\n",
    "df['Year'] = df['Question Date'].dt.year\n",
    "# save\n",
    "df.to_csv('../data/qa_finance_cleaned.csv', index=False)"
   ],
   "id": "94485fc67c0bd0cc",
   "execution_count": 13,
   "outputs": []
  },
  {
   "metadata": {
    "ExecuteTime": {
     "end_time": "2024-04-06T14:27:38.052780Z",
     "start_time": "2024-04-06T14:27:38.048391Z"
    }
   },
   "cell_type": "code",
   "source": "df['Question Text'][0]",
   "id": "edb2858f14f8bd5d",
   "execution_count": 4,
   "outputs": []
  },
  {
   "metadata": {
    "ExecuteTime": {
     "end_time": "2024-04-06T14:27:48.774456Z",
     "start_time": "2024-04-06T14:27:48.770038Z"
    }
   },
   "cell_type": "code",
   "source": "df['Answer Text'][0]",
   "id": "82b8399721ca3cea",
   "execution_count": 5,
   "outputs": []
  },
  {
   "metadata": {
    "ExecuteTime": {
     "end_time": "2024-04-05T18:16:02.286192Z",
     "start_time": "2024-04-05T18:16:02.276493Z"
    }
   },
   "cell_type": "code",
   "source": "df.tail()",
   "id": "initial_id",
   "execution_count": 24,
   "outputs": []
  },
  {
   "metadata": {
    "ExecuteTime": {
     "end_time": "2024-04-05T18:12:00.188304Z",
     "start_time": "2024-04-05T18:11:59.424730Z"
    }
   },
   "cell_type": "code",
   "source": [
    "plt.figure(figsize=(16, 12))\n",
    "plt.suptitle('Counts of Sections and Themes', size=22)\n",
    "\n",
    "# Plot for Section counts\n",
    "plt.subplot(211)\n",
    "section_counts = df['Section'].value_counts()\n",
    "g0 = sns.barplot(x=section_counts.index, y=section_counts.values, color='blue')\n",
    "g0.set_title(\"Counts of Sections\", fontsize=22)\n",
    "g0.set_xlabel(\"Section Name\", fontsize=19)\n",
    "g0.set_ylabel(\"Total Count\", fontsize=19)\n",
    "g0.set_xticks(range(len(section_counts)))  # Set the ticks explicitly\n",
    "g0.set_xticklabels(section_counts.index, rotation=75)  # Remove rotation from tick labels\n",
    "for p in g0.patches:\n",
    "    height = p.get_height()\n",
    "    g0.text(p.get_x() + p.get_width() / 2.,\n",
    "            height + 3,\n",
    "            '{:1.1f}%'.format(height / section_counts.sum() * 100),\n",
    "            ha=\"center\", fontsize=11)\n",
    "\n",
    "# Plot for Theme counts\n",
    "plt.subplot(212)\n",
    "theme_counts = df['Theme'].value_counts()\n",
    "g1 = sns.barplot(x=theme_counts.index[:20], y=theme_counts.values[:20], color='blue')\n",
    "g1.set_title(\"Top 20 Themes with More Counts\", fontsize=22)\n",
    "g1.set_xlabel(\"Theme Name\", fontsize=19)\n",
    "g1.set_ylabel(\"Total Count\", fontsize=19)\n",
    "g1.set_xticks(range(len(theme_counts[:20])))  # Set the ticks explicitly\n",
    "g1.set_xticklabels(theme_counts.index[:20], rotation=75)  # Remove rotation from tick labels\n",
    "for p in g1.patches:\n",
    "    height = p.get_height()\n",
    "    g1.text(p.get_x() + p.get_width() / 2.,\n",
    "            height + 3,\n",
    "            '{:1.1f}%'.format(height / theme_counts.sum() * 100),\n",
    "            ha=\"center\", fontsize=11)\n",
    "\n",
    "plt.subplots_adjust(hspace=0.75, top=0.90)  # Increase space between subplots\n",
    "\n",
    "plt.show()"
   ],
   "id": "f12f32e52d00b397",
   "execution_count": 5,
   "outputs": []
  },
  {
   "metadata": {
    "ExecuteTime": {
     "end_time": "2024-04-15T14:44:24.776757Z",
     "start_time": "2024-04-15T14:44:24.760651Z"
    }
   },
   "cell_type": "code",
   "source": [
    "# take all section - Dane and count themes\n",
    "df[df['Section'] == 'Daně']['Theme'].value_counts()"
   ],
   "id": "2fddd58990047b8d",
   "execution_count": 14,
   "outputs": []
  },
  {
   "metadata": {
    "ExecuteTime": {
     "end_time": "2024-04-15T14:39:12.515619Z",
     "start_time": "2024-04-15T14:39:12.496743Z"
    }
   },
   "cell_type": "code",
   "source": "df[df['Theme'] == 'Daň z příjmu FO']",
   "id": "5d37417572197028",
   "execution_count": 12,
   "outputs": []
  },
  {
   "metadata": {
    "ExecuteTime": {
     "end_time": "2024-04-05T18:12:00.514082Z",
     "start_time": "2024-04-05T18:12:00.189816Z"
    }
   },
   "cell_type": "code",
   "source": [
    "plt.figure(figsize=(12, 4))\n",
    "plt.suptitle('Counts of Questions by Year', size=22)\n",
    "question_count_by_year = df['Year'].value_counts().sort_index()\n",
    "g0 = sns.barplot(x=question_count_by_year.index, y=question_count_by_year.values, color='blue')\n",
    "g0.set_xlabel(\"Year\", fontsize=19)\n",
    "g0.set_ylabel(\"Total Count\", fontsize=19)\n",
    "for p in g0.patches:\n",
    "    height = p.get_height()\n",
    "    g0.text(p.get_x() + p.get_width() / 2.,\n",
    "            height + 3,\n",
    "            '{:1.0f}'.format(height),\n",
    "            ha=\"center\", fontsize=11)\n",
    "\n",
    "plt.show()"
   ],
   "id": "a9615b6b7f702000",
   "execution_count": 6,
   "outputs": []
  },
  {
   "metadata": {
    "ExecuteTime": {
     "end_time": "2024-04-05T18:12:00.679814Z",
     "start_time": "2024-04-05T18:12:00.515352Z"
    }
   },
   "cell_type": "code",
   "source": [
    "plt.figure(figsize=(10, 8))\n",
    "plt.title('Count of Responders', size=22)\n",
    "\n",
    "responder_counts = df[\"Responder Name\"].value_counts()\n",
    "\n",
    "g = sns.barplot(x=responder_counts.index, y=responder_counts.values, color='blue')\n",
    "g.set_xlabel(\"Responder\", fontsize=16)\n",
    "g.set_ylabel(\"Total Count\", fontsize=16)\n",
    "\n",
    "for p in g.patches:\n",
    "    height = p.get_height()\n",
    "    g.text(p.get_x() + p.get_width() / 2.,\n",
    "           height + 3,\n",
    "           '{:1.0f}'.format(height),\n",
    "           ha=\"center\", fontsize=10)\n",
    "\n",
    "plt.show()\n"
   ],
   "id": "a50d72e64b96ef67",
   "execution_count": 7,
   "outputs": []
  },
  {
   "metadata": {
    "ExecuteTime": {
     "end_time": "2024-04-05T18:12:26.731141Z",
     "start_time": "2024-04-05T18:12:00.680783Z"
    }
   },
   "cell_type": "code",
   "source": [
    "question_tokens = [word_tokenize(question) for question in tqdm(df['Question Text'])]\n",
    "len_question_tokens = [len(tokens) for tokens in question_tokens]\n",
    "df['Question Length'] = len_question_tokens"
   ],
   "id": "9dcfee4e23962c95",
   "execution_count": 8,
   "outputs": []
  },
  {
   "metadata": {
    "ExecuteTime": {
     "end_time": "2024-04-05T18:12:29.797734Z",
     "start_time": "2024-04-05T18:12:26.732289Z"
    }
   },
   "cell_type": "code",
   "source": [
    "grid = gridspec.GridSpec(5, 3)\n",
    "plt.figure(figsize=(16, 6 * 4))\n",
    "\n",
    "plt.suptitle('Question Lenghts by Different Categories', size=20)\n",
    "count = 0\n",
    "top_cats = df['Section'].value_counts().index\n",
    "for n, col in enumerate(top_cats):\n",
    "    plt.subplot(grid[n])\n",
    "    sns.histplot(df[df['Section'] == col]['Question Length'], bins=50, color='green', kde=True)\n",
    "    plt.axvline(df[df['Section'] == col]['Question Length'].mean(), color='red', linestyle='--')\n",
    "    plt.axvline(df[df['Section'] == col]['Question Length'].quantile(0.05), color='blue', linestyle='--')\n",
    "    plt.axvline(df[df['Section'] == col]['Question Length'].quantile(0.95), color='blue', linestyle='--')\n",
    "    plt.title(f'Question Lengths for {col}', size=12)\n",
    "    plt.xlabel('Length', size=10)\n",
    "    plt.ylabel('Count', size=10)\n",
    "    count += 1\n",
    "\n",
    "plt.subplots_adjust(top=0.95, hspace=.4, wspace=.15)\n",
    "plt.show()"
   ],
   "id": "eeedf007a97603a4",
   "execution_count": 9,
   "outputs": []
  },
  {
   "metadata": {
    "ExecuteTime": {
     "end_time": "2024-04-05T18:12:51.462403Z",
     "start_time": "2024-04-05T18:12:29.799463Z"
    }
   },
   "cell_type": "code",
   "source": [
    "answer_tokens = [word_tokenize(answer) for answer in tqdm(df['Answer Text'])]\n",
    "len_answer_tokens = [len(tokens) for tokens in answer_tokens]\n",
    "df['Answer Length'] = len_answer_tokens"
   ],
   "id": "576f0a7803f7318b",
   "execution_count": 10,
   "outputs": []
  },
  {
   "metadata": {
    "ExecuteTime": {
     "end_time": "2024-04-05T18:12:54.476143Z",
     "start_time": "2024-04-05T18:12:51.463337Z"
    }
   },
   "cell_type": "code",
   "source": [
    "grid = gridspec.GridSpec(5, 3)\n",
    "plt.figure(figsize=(16, 6 * 4))\n",
    "\n",
    "plt.suptitle('Answer Lenghts by Different Categories', size=20)\n",
    "count = 0\n",
    "top_cats = df['Section'].value_counts().index\n",
    "for n, col in enumerate(top_cats):\n",
    "    plt.subplot(grid[n])\n",
    "    sns.histplot(df[df['Section'] == col]['Answer Length'], bins=50, color='green', kde=True)\n",
    "    plt.axvline(df[df['Section'] == col]['Answer Length'].mean(), color='red', linestyle='--')\n",
    "    plt.axvline(df[df['Section'] == col]['Answer Length'].quantile(0.05), color='blue', linestyle='--')\n",
    "    plt.axvline(df[df['Section'] == col]['Answer Length'].quantile(0.95), color='blue', linestyle='--')\n",
    "    plt.title(f'Answer Lengths for {col}', size=10)\n",
    "    plt.xlabel('Length', size=10)\n",
    "    plt.ylabel('Count', size=10)\n",
    "    count += 1\n",
    "    \n",
    "plt.subplots_adjust(top=0.95, hspace=.4, wspace=.15)\n",
    "plt.show()"
   ],
   "id": "ec838f6501ae512d",
   "execution_count": 11,
   "outputs": []
  },
  {
   "metadata": {
    "ExecuteTime": {
     "end_time": "2024-04-05T18:12:54.483183Z",
     "start_time": "2024-04-05T18:12:54.477371Z"
    }
   },
   "cell_type": "code",
   "source": "stop_words = ['a', 'aby', 'aj', 'ak', 'ako', 'ale', 'alebo', 'and', 'ani', 'áno', 'asi', 'až', 'bez', 'bol', 'bola', 'boli', 'bolo', 'by', 'bol', 'bola', 'boli', 'bolo', 'by', 'byť', 'cez', 'čo', 'či', 'ďalší', 'ďalšia', 'ďalšie', 'dnes', 'do', 'ho', 'hoci', 'i', 'iba', 'iné', 'iný', 'ja', 'je', 'jeho', 'jsem', 'jej', 'ju', 'k', 'kam', 'každý', 'každá', 'každé', 'každí', 'kde', 'keď', 'kto', 'ktorá', 'ktoré', 'ktorou', 'ktorý', 'ktorí', 'ku', 'lebo', 'len', 'ma', 'mať', 'má', 'máte', 'medzi', 'mi', 'mna', 'mne', 'mnou', 'musieť', 'môcť', 'môj', 'môže', 'my', 'na', 'nad', 'nám', 'náš', 'naši', 'ne', 'neho', 'nej', 'nemu', 'nich', 'nie', 'nič', 'niektorý', 'niektorá', 'niektoré', 'niektorí', 'nielen', 'nim', 'nimi', 'nič', 'no', 'o', 'od', 'odo', 'on', 'ona', 'ono', 'oni', 'ono', 'ony', 'po', 'pod', 'podľa', 'pokiaľ', 'potom', 'práve', 'pre', 'prečo', 'pred', 'predo', 'preto', 'pretože', 'prvý', 'prvá', 'prvé', 'prví', 's', 'sa', 'so', 'si', 'se', 'svoj', 'svoje', 'svojich', 'svojím', 'svojími', 'ta', 'tak', 'takže', 'taký', 'taká', 'také', 'takí', 'tam', 'te', 'teba', 'tebe', 'tebou', 'teda', 'ten', 'tento', 'tieto', 'tiež', 'to', 'toto', 'toho', 'tohoto', 'tom', 'tomto', 'tomuto', 'tu', 'tú', 'tvoj', 'tvojími', 'ty', 'tý', 'tým', 'tými', 'už', 'v', 'vám', 'váš', 'vaši', 'veľmi', 'viac', 'vo', 'voči', 'však', 'všetok', 'vy', 'z', 'za', 'zo', 'že', 'den', 'dobrý', 'děkuji', 'bych', 'nebo', 'jak', 'jako', 'u', 'pro', 'tak', 'mít', 'ale', 'tak', 'jsem', 'když', 'zda']",
   "id": "7a759bc012e36c56",
   "execution_count": 12,
   "outputs": []
  },
  {
   "metadata": {
    "ExecuteTime": {
     "end_time": "2024-04-05T18:13:25.934041Z",
     "start_time": "2024-04-05T18:12:54.484278Z"
    }
   },
   "cell_type": "code",
   "source": [
    "top_words_questions = {}\n",
    "for section in tqdm(df['Section'].value_counts().index):\n",
    "    words = [word for question in df[df['Section'] == section]['Question Text'] for word in word_tokenize(question) if word.isalpha() and word.lower() not in stop_words]\n",
    "    top_words_questions[section] = Counter(words).most_common(10)"
   ],
   "id": "a6e29c9a43e35907",
   "execution_count": 13,
   "outputs": []
  },
  {
   "metadata": {
    "ExecuteTime": {
     "end_time": "2024-04-05T18:13:28.290900Z",
     "start_time": "2024-04-05T18:13:25.934888Z"
    }
   },
   "cell_type": "code",
   "source": [
    "plt.figure(figsize=(16, 6 * 4))\n",
    "plt.suptitle('Top Words in Questions by Section', size=20)\n",
    "count = 0\n",
    "for section, words in top_words_questions.items():\n",
    "    plt.subplot(grid[count])\n",
    "    sns.barplot(x=[word[0] for word in words], y=[word[1] for word in words], color='green')\n",
    "    plt.title(f'Top Words in {section}', size=12)\n",
    "    plt.xlabel('Word', size=10)\n",
    "    plt.ylabel('Count', size=10)\n",
    "    plt.xticks(rotation=90)\n",
    "    count += 1\n",
    "    \n",
    "plt.subplots_adjust(top=0.95, hspace=.4, wspace=.15)\n",
    "plt.show()"
   ],
   "id": "2179f391f5c05c74",
   "execution_count": 14,
   "outputs": []
  },
  {
   "metadata": {
    "ExecuteTime": {
     "end_time": "2024-04-05T18:13:54.254196Z",
     "start_time": "2024-04-05T18:13:28.291802Z"
    }
   },
   "cell_type": "code",
   "source": [
    "top_words_answers = {}\n",
    "\n",
    "for section in tqdm(df['Section'].value_counts().index):\n",
    "    words = [word for answer in df[df['Section'] == section]['Answer Text'] for word in word_tokenize(answer) if word.isalpha() and word.lower() not in stop_words]\n",
    "    top_words_answers[section] = Counter(words).most_common(10)"
   ],
   "id": "925564fd48bcd163",
   "execution_count": 15,
   "outputs": []
  },
  {
   "metadata": {
    "ExecuteTime": {
     "end_time": "2024-04-05T18:13:56.308828Z",
     "start_time": "2024-04-05T18:13:54.255199Z"
    }
   },
   "cell_type": "code",
   "source": [
    "plt.figure(figsize=(16, 6 * 4))\n",
    "plt.suptitle('Top Words in Answers by Section', size=20)\n",
    "count = 0\n",
    "for section, words in top_words_answers.items():\n",
    "    plt.subplot(grid[count])\n",
    "    sns.barplot(x=[word[0] for word in words], y=[word[1] for word in words], color='green')\n",
    "    plt.title(f'Top Words in {section}', size=12)\n",
    "    plt.xlabel('Word', size=10)\n",
    "    plt.ylabel('Count', size=10)\n",
    "    plt.xticks(rotation=90)\n",
    "    count += 1\n",
    "    \n",
    "plt.subplots_adjust(top=0.95, hspace=.4, wspace=.15)\n",
    "plt.show()"
   ],
   "id": "90213d892b21d1ac",
   "execution_count": 16,
   "outputs": []
  },
  {
   "metadata": {
    "ExecuteTime": {
     "end_time": "2024-04-20T12:11:50.507636Z",
     "start_time": "2024-04-20T12:11:50.442453Z"
    }
   },
   "cell_type": "code",
   "source": "df_penize = pd.read_csv('../data/qa_penize.csv')",
   "id": "12efb11d6344fd98",
   "execution_count": 4,
   "outputs": []
  },
  {
   "metadata": {
    "ExecuteTime": {
     "end_time": "2024-04-20T12:16:48.035682Z",
     "start_time": "2024-04-20T12:16:48.028977Z"
    }
   },
   "cell_type": "code",
   "source": "df_penize.head()",
   "id": "7a7587dda9407104",
   "execution_count": 15,
   "outputs": []
  },
  {
   "metadata": {
    "ExecuteTime": {
     "end_time": "2024-04-20T12:21:35.199800Z",
     "start_time": "2024-04-20T12:21:35.080584Z"
    }
   },
   "cell_type": "code",
   "source": [
    "df_penize = df_penize.dropna(subset=['question_text', 'answer_text'])\n",
    "df_penize = df_penize.drop_duplicates(subset=['question_text', 'answer_text'])\n",
    "df_penize = df_penize.reset_index(drop=True)\n",
    "\n",
    "df_penize['question_text'] = df_penize['question_text'].str.replace(r'\\r\\n|\\n|\\r', ' ', regex=True)\n",
    "df_penize['answer_text'] = df_penize['answer_text'].str.replace(r'\\r\\n|\\n|\\r', ' ', regex=True)\n",
    "\n",
    "df_penize['question_text'] = df_penize['question_text'].str.strip()\n",
    "df_penize['answer_text'] = df_penize['answer_text'].str.strip()\n",
    "\n",
    "df_penize['year'] = df_penize['question_date'].str.extract(r'(\\d{4})')\n",
    "\n",
    "df_penize.to_csv('../data/qa_penize_cleaned.csv', index=False)"
   ],
   "id": "641a3361233fe477",
   "execution_count": 22,
   "outputs": []
  },
  {
   "metadata": {
    "ExecuteTime": {
     "end_time": "2024-04-20T12:17:35.610938Z",
     "start_time": "2024-04-20T12:17:35.314389Z"
    }
   },
   "cell_type": "code",
   "source": [
    "# create plot by year\n",
    "plt.figure(figsize=(12, 4))\n",
    "plt.suptitle('Counts of Questions by Year', size=22)\n",
    "question_count_by_year = df_penize['year'].value_counts().sort_index()\n",
    "g0 = sns.barplot(x=question_count_by_year.index, y=question_count_by_year.values, color='blue')\n",
    "g0.set_xlabel(\"Year\", fontsize=19)\n",
    "g0.set_ylabel(\"Total Count\", fontsize=19)\n",
    "for p in g0.patches:\n",
    "    height = p.get_height()\n",
    "    g0.text(p.get_x() + p.get_width() / 2.,\n",
    "            height + 3,\n",
    "            '{:1.0f}'.format(height),\n",
    "            ha=\"center\", fontsize=11)"
   ],
   "id": "5609f657e3fd18a",
   "execution_count": 17,
   "outputs": []
  },
  {
   "metadata": {
    "ExecuteTime": {
     "end_time": "2024-04-20T12:20:33.569541Z",
     "start_time": "2024-04-20T12:20:29.921250Z"
    }
   },
   "cell_type": "code",
   "source": [
    "# question answer length\n",
    "question_tokens = [word_tokenize(question) for question in tqdm(df_penize['question_text'])]\n",
    "len_question_tokens = [len(tokens) for tokens in question_tokens]\n",
    "df_penize['question_length'] = len_question_tokens\n",
    "\n",
    "answer_tokens = [word_tokenize(answer) for answer in tqdm(df_penize['answer_text'])]\n",
    "len_answer_tokens = [len(tokens) for tokens in answer_tokens]\n",
    "df_penize['answer_length'] = len_answer_tokens"
   ],
   "id": "57176ebf524a4a49",
   "execution_count": 19,
   "outputs": []
  },
  {
   "metadata": {
    "ExecuteTime": {
     "end_time": "2024-04-20T12:21:00.488868Z",
     "start_time": "2024-04-20T12:20:59.849187Z"
    }
   },
   "cell_type": "code",
   "source": [
    "# plot avg question and answer length\n",
    "grid = gridspec.GridSpec(1, 2)\n",
    "plt.figure(figsize=(16, 6))\n",
    "\n",
    "plt.subplot(grid[0])\n",
    "sns.histplot(df_penize['question_length'], bins=50, color='green', kde=True)\n",
    "plt.axvline(df_penize['question_length'].mean(), color='red', linestyle='--')\n",
    "plt.axvline(df_penize['question_length'].quantile(0.05), color='blue', linestyle='--')\n",
    "plt.axvline(df_penize['question_length'].quantile(0.95), color='blue', linestyle='--')\n",
    "plt.title('Question Lengths', size=12)\n",
    "plt.xlabel('Length', size=10)\n",
    "plt.ylabel('Count', size=10)\n",
    "plt.subplot(grid[1])\n",
    "sns.histplot(df_penize['answer_length'], bins=50, color='green', kde=True)\n",
    "plt.axvline(df_penize['answer_length'].mean(), color='red', linestyle='--')\n",
    "plt.axvline(df_penize['answer_length'].quantile(0.05), color='blue', linestyle='--')\n",
    "plt.axvline(df_penize['answer_length'].quantile(0.95), color='blue', linestyle='--')\n",
    "plt.title('Answer Lengths', size=12)\n",
    "plt.xlabel('Length', size=10)\n",
    "plt.ylabel('Count', size=10)"
   ],
   "id": "c54d9eaa3bf154d5",
   "execution_count": 21,
   "outputs": []
  },
  {
   "metadata": {},
   "cell_type": "code",
   "execution_count": null,
   "source": "",
   "id": "840c5cbee2e015b1",
   "outputs": []
  }
 ],
 "metadata": {
  "kernelspec": {
   "display_name": "Python 3",
   "language": "python",
   "name": "python3"
  },
  "language_info": {
   "codemirror_mode": {
    "name": "ipython",
    "version": 2
   },
   "file_extension": ".py",
   "mimetype": "text/x-python",
   "name": "python",
   "nbconvert_exporter": "python",
   "pygments_lexer": "ipython2",
   "version": "2.7.6"
  }
 },
 "nbformat": 4,
 "nbformat_minor": 5
}
