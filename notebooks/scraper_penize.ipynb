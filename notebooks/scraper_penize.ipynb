{
 "cells": [
  {
   "cell_type": "code",
   "id": "initial_id",
   "metadata": {
    "collapsed": true,
    "ExecuteTime": {
     "end_time": "2024-04-16T08:53:45.089576Z",
     "start_time": "2024-04-16T08:53:45.083535Z"
    }
   },
   "source": [
    "import os\n",
    "import time\n",
    "import random\n",
    "import csv\n",
    "import json\n",
    "from tqdm.auto import tqdm\n",
    "\n",
    "import requests\n",
    "from bs4 import BeautifulSoup"
   ],
   "outputs": [],
   "execution_count": 55
  },
  {
   "metadata": {
    "ExecuteTime": {
     "end_time": "2024-04-16T08:53:45.124095Z",
     "start_time": "2024-04-16T08:53:45.090717Z"
    }
   },
   "cell_type": "code",
   "source": [
    "start_page = 1\n",
    "end_page = 172 \n",
    "base_url = 'https://www.penize.cz/poradna/dane'\n",
    "csv_filename = '../data/qa_penize.csv'\n",
    "csv_header = ['question_date', 'question_title', 'question_text', 'QA_link', 'answer_date', 'answer_text']"
   ],
   "id": "b0391e65299c225a",
   "outputs": [],
   "execution_count": 56
  },
  {
   "metadata": {
    "ExecuteTime": {
     "end_time": "2024-04-16T09:08:57.017554Z",
     "start_time": "2024-04-16T08:53:45.125103Z"
    }
   },
   "cell_type": "code",
   "source": [
    "file_exists = os.path.isfile(csv_filename)\n",
    "mode = 'a' if file_exists else 'w'\n",
    "with open (csv_filename, mode, newline='', encoding='utf-8') as csv_file:\n",
    "    writer = csv.writer(csv_file)\n",
    "    if not file_exists:\n",
    "        writer.writerow(csv_header)\n",
    "    for page in tqdm(range(start_page, end_page + 1)):\n",
    "        url = f'{base_url}?pagenumber={page}'\n",
    "        response = requests.get(url)\n",
    "        if response.status_code != 200:\n",
    "            print(f\"Error on page {page}: HTTP Status Code {response.status_code}\")\n",
    "            continue\n",
    "        soup = BeautifulSoup(response.text, 'html.parser')\n",
    "        h4_tags = soup.find_all('h4', class_='title')\n",
    "        for h4_tag in h4_tags:\n",
    "            a_tag = h4_tag.find('a')\n",
    "            QA_link = a_tag['href']\n",
    "            QA_response = requests.get(base_url + QA_link)\n",
    "            if QA_response.status_code != 200:\n",
    "                print(f\"Error on page {page}: HTTP Status Code {QA_response.status_code}\")\n",
    "                continue\n",
    "            QA_soup = BeautifulSoup(QA_response.text, 'html.parser')\n",
    "            script_tag = QA_soup.find(\"script\", type=\"application/ld+json\")\n",
    "            json_content = script_tag.string.strip()\n",
    "            json_data = json.loads(json_content, strict=False)\n",
    "            question_date = json_data[\"mainEntity\"][\"datePublished\"]\n",
    "            question_title = json_data[\"mainEntity\"][\"name\"]\n",
    "            question_text = json_data[\"mainEntity\"][\"text\"].replace('\\n', ' ').replace('\\r', ' ').replace('  ', ' ')\n",
    "            answer_date = json_data[\"mainEntity\"][\"acceptedAnswer\"][\"datePublished\"]\n",
    "            answer_text = json_data[\"mainEntity\"][\"acceptedAnswer\"][\"text\"].replace('\\n', ' ').replace('\\r', ' ').replace('  ', ' ')\n",
    "            writer.writerow([question_date, question_title, question_text, QA_link, answer_date, answer_text])\n",
    "        time.sleep(random.uniform(0.5, 1.5))"
   ],
   "id": "dd337fb4f95bb56c",
   "outputs": [
    {
     "data": {
      "text/plain": [
       "  0%|          | 0/172 [00:00<?, ?it/s]"
      ],
      "application/vnd.jupyter.widget-view+json": {
       "version_major": 2,
       "version_minor": 0,
       "model_id": "8cc3ad5a48eb4036b0c87e6db6deba06"
      }
     },
     "metadata": {},
     "output_type": "display_data"
    }
   ],
   "execution_count": 57
  },
  {
   "metadata": {
    "ExecuteTime": {
     "end_time": "2024-04-16T09:08:57.027768Z",
     "start_time": "2024-04-16T09:08:57.022043Z"
    }
   },
   "cell_type": "code",
   "source": "",
   "id": "58291abf50651cf5",
   "outputs": [],
   "execution_count": 57
  }
 ],
 "metadata": {
  "kernelspec": {
   "display_name": "Python 3",
   "language": "python",
   "name": "python3"
  },
  "language_info": {
   "codemirror_mode": {
    "name": "ipython",
    "version": 2
   },
   "file_extension": ".py",
   "mimetype": "text/x-python",
   "name": "python",
   "nbconvert_exporter": "python",
   "pygments_lexer": "ipython2",
   "version": "2.7.6"
  }
 },
 "nbformat": 4,
 "nbformat_minor": 5
}
