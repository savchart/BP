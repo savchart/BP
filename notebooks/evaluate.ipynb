{
 "cells": [
  {
   "metadata": {
    "ExecuteTime": {
     "end_time": "2024-04-08T18:26:04.704714Z",
     "start_time": "2024-04-08T18:26:04.699182Z"
    }
   },
   "cell_type": "code",
   "source": [
    "question = \"Dobrý den, Pracuji v Rakousku na smlouvu 9h týdně za 483€ měsíčně. Zdravotní a sociální si platím v Česku. Sociální jsem začala platit později od Ledna 2022. Chtěla jsem se zeptat jestli budu mít nárok aspoň na rodičovský příspěvek? A pokud Ano bude potom zdravotní a sociální za mě odvádět stát? Nebo jak to funguje. Děkuji za odpověď.\"\n",
    "answer = \"Dobrý den, nárok na rodičovský příspěvek máte, jestliže máte trvalý pobyt a bydliště na území České republiky. Zdravotní pojištění za vás hradní stát, sociální pojištění stát neodvádí, ale vůči důchodu se rodičovská dovolená bere jako  náhradní doba pojištění (viz. https://www.finance.cz/519065-nahradni-doba-pojisteni/?_fid=swa4). O rodičovský příspěvek si musíte zažádat - https://www.mpsv.cz/-/rodicovsky-prispevek. Hezký den.\"\n",
    "generated = \"Dobrý den, pokud budete v Rakousku pracovat, tak budete mít nárok na mateřskou a následně i\""
   ],
   "id": "71c23f781ec27ced",
   "outputs": [],
   "execution_count": 1
  },
  {
   "metadata": {
    "ExecuteTime": {
     "end_time": "2024-04-08T18:26:05.257182Z",
     "start_time": "2024-04-08T18:26:05.254117Z"
    }
   },
   "cell_type": "code",
   "source": [
    "propmt = (\n",
    "    f\"\"\"\n",
    "Compare source text {generated} with reference text {answer}. \n",
    "Answer for questions YES(1)/NO(0). \n",
    "Accuracy\n",
    "[1a] Has any content been inappropriately omitted from the text?\n",
    "[1b] Does the text exhibit any miss that change the intended\n",
    "meaning of the text?\n",
    "[1c] Are there any other accuracy issues that affect the translation?\n",
    "Fluency\n",
    "[2a] Are there any grammar problems in the  text?\n",
    "[2b] Are there any stylistic problems in the  text?\n",
    "[2c] Are there any other fluency problems in the  text?\n",
    "\n",
    "Output is vector of 6 numbers\n",
    "\"\"\"\n",
    ")"
   ],
   "id": "f8406791da60149d",
   "outputs": [],
   "execution_count": 2
  },
  {
   "metadata": {
    "ExecuteTime": {
     "end_time": "2024-04-08T18:26:06.364670Z",
     "start_time": "2024-04-08T18:26:06.274926Z"
    }
   },
   "cell_type": "code",
   "source": [
    "import requests\n",
    "import json\n",
    "import os\n",
    "from dotenv import load_dotenv\n",
    "\n",
    "# Load environment variables from .env file\n",
    "load_dotenv()\n",
    "\n",
    "api_key = os.environ[\"api_key\"]\n",
    "headers = {\n",
    "    \"Authorization\": f\"Bearer {api_key}\",\n",
    "    \"Content-Type\": \"application/json\"\n",
    "}"
   ],
   "id": "79744de01d6a483d",
   "outputs": [],
   "execution_count": 3
  },
  {
   "metadata": {
    "ExecuteTime": {
     "end_time": "2024-04-08T18:26:07.793054Z",
     "start_time": "2024-04-08T18:26:07.790053Z"
    }
   },
   "cell_type": "code",
   "source": [
    "\n",
    "# Assuming the updated endpoint expects a list of messages\n",
    "data = {\n",
    "    \"model\": \"gpt-3.5-turbo\",\n",
    "    \"messages\": [\n",
    "        {\"role\": \"system\", \"content\": \"You are a helpful assistant.\"},\n",
    "        {\"role\": \"user\", \"content\": propmt}\n",
    "    ]\n",
    "}"
   ],
   "id": "c2edeaf61b4b7b20",
   "outputs": [],
   "execution_count": 4
  },
  {
   "metadata": {
    "ExecuteTime": {
     "end_time": "2024-04-08T18:26:11.470033Z",
     "start_time": "2024-04-08T18:26:08.591494Z"
    }
   },
   "cell_type": "code",
   "source": [
    "response = requests.post(\"https://api.openai.com/v1/chat/completions\", headers=headers, data=json.dumps(data))\n",
    "if response.status_code == 200:\n",
    "    print(\"API Key is valid. Response received successfully.\")\n",
    "else:\n",
    "    print(f\"Failed to validate API Key: HTTP {response.status_code} - {response.text}\")"
   ],
   "id": "2e6a848c59bad400",
   "outputs": [
    {
     "name": "stdout",
     "output_type": "stream",
     "text": [
      "API Key is valid. Response received successfully.\n"
     ]
    }
   ],
   "execution_count": 5
  },
  {
   "metadata": {
    "ExecuteTime": {
     "end_time": "2024-04-08T18:32:19.333448Z",
     "start_time": "2024-04-08T18:32:19.320949Z"
    }
   },
   "cell_type": "code",
   "source": [
    "# extract chatgpt-3.5 answer from response\n",
    "response.json()[\"choices\"][0]['message']['content'].replace('\\n', ' ')"
   ],
   "id": "e4c28e45591445f4",
   "outputs": [
    {
     "data": {
      "text/plain": [
       "'[Accuracy] 1a. NO - No content has been inappropriately omitted from the text. 1b. NO - The text does not exhibit any mistakes that change the intended meaning. 1c. NO - There are no other accuracy issues that affect the translation.  [Fluency] 2a. NO - There are no grammar problems in the text. 2b. YES - There are some stylistic problems in the text, such as the lack of a proper greeting at the beginning (\"Dobrý den\" is more formal), and the use of dashes in URLs which are uncommon in formal writing. 2c. NO - There are no other fluency problems in the text.   Output: [0, 0, 0, 0, 1, 0]'"
      ]
     },
     "execution_count": 19,
     "metadata": {},
     "output_type": "execute_result"
    }
   ],
   "execution_count": 19
  },
  {
   "metadata": {
    "ExecuteTime": {
     "end_time": "2024-04-08T18:30:40.641010Z",
     "start_time": "2024-04-08T18:30:40.620785Z"
    }
   },
   "cell_type": "code",
   "source": "response",
   "id": "800fc5a91d14dc36",
   "outputs": [
    {
     "ename": "TypeError",
     "evalue": "'Response' object is not subscriptable",
     "output_type": "error",
     "traceback": [
      "\u001B[0;31m---------------------------------------------------------------------------\u001B[0m",
      "\u001B[0;31mTypeError\u001B[0m                                 Traceback (most recent call last)",
      "Cell \u001B[0;32mIn[13], line 1\u001B[0m\n\u001B[0;32m----> 1\u001B[0m \u001B[43mresponse\u001B[49m\u001B[43m[\u001B[49m\u001B[38;5;124;43m\"\u001B[39;49m\u001B[38;5;124;43mchoices\u001B[39;49m\u001B[38;5;124;43m\"\u001B[39;49m\u001B[43m]\u001B[49m[\u001B[38;5;241m0\u001B[39m][\u001B[38;5;124m\"\u001B[39m\u001B[38;5;124mtext\u001B[39m\u001B[38;5;124m\"\u001B[39m]\n",
      "\u001B[0;31mTypeError\u001B[0m: 'Response' object is not subscriptable"
     ]
    }
   ],
   "execution_count": 13
  },
  {
   "metadata": {},
   "cell_type": "code",
   "outputs": [],
   "execution_count": null,
   "source": "",
   "id": "f57e4417dac8aa0f"
  }
 ],
 "metadata": {
  "kernelspec": {
   "display_name": "Python 3",
   "language": "python",
   "name": "python3"
  },
  "language_info": {
   "codemirror_mode": {
    "name": "ipython",
    "version": 2
   },
   "file_extension": ".py",
   "mimetype": "text/x-python",
   "name": "python",
   "nbconvert_exporter": "python",
   "pygments_lexer": "ipython2",
   "version": "2.7.6"
  }
 },
 "nbformat": 4,
 "nbformat_minor": 5
}
