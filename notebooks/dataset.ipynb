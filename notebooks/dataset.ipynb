{
 "cells": [
  {
   "cell_type": "code",
   "id": "ec1fa32cd093826c",
   "metadata": {
    "collapsed": true,
    "ExecuteTime": {
     "end_time": "2024-04-20T12:22:41.463180Z",
     "start_time": "2024-04-20T12:22:41.454506Z"
    }
   },
   "source": "import pandas as pd",
   "outputs": [],
   "execution_count": 3
  },
  {
   "metadata": {
    "ExecuteTime": {
     "end_time": "2024-04-20T12:27:27.123387Z",
     "start_time": "2024-04-20T12:27:25.761279Z"
    }
   },
   "cell_type": "code",
   "source": [
    "df_train = pd.read_csv('../data/qa_finance_cleaned.csv')\n",
    "df_train = df_train[df_train['Section'] == 'Daně']\n",
    "df_train = df_train.dropna()\n",
    "df_train = df_train[['Question Title', 'Question Text', 'Answer Text']]\n",
    "df_train = df_train.rename(columns={'Question Title': 'title', 'Question Text': 'question', 'Answer Text': 'answer'})\n",
    "df_train = df_train.reset_index(drop=True)\n",
    "df_train.to_csv('../data/dataset/train.csv', index=False)\n",
    "df_train.info()"
   ],
   "id": "72e754e41cfe7f24",
   "outputs": [
    {
     "name": "stdout",
     "output_type": "stream",
     "text": [
      "<class 'pandas.core.frame.DataFrame'>\n",
      "RangeIndex: 34404 entries, 0 to 34403\n",
      "Data columns (total 3 columns):\n",
      " #   Column    Non-Null Count  Dtype \n",
      "---  ------    --------------  ----- \n",
      " 0   title     34404 non-null  object\n",
      " 1   question  34404 non-null  object\n",
      " 2   answer    34404 non-null  object\n",
      "dtypes: object(3)\n",
      "memory usage: 806.5+ KB\n"
     ]
    }
   ],
   "execution_count": 12
  },
  {
   "metadata": {
    "ExecuteTime": {
     "end_time": "2024-04-20T12:29:10.015241Z",
     "start_time": "2024-04-20T12:29:09.871875Z"
    }
   },
   "cell_type": "code",
   "source": [
    "df_val = pd.read_csv('../data/qa_penize_cleaned.csv')\n",
    "df_val = df_val.dropna()\n",
    "df_val = df_val[['question_title', 'question_text', 'answer_text']]\n",
    "df_val = df_val.rename(columns={'question_title': 'title', 'question_text': 'question', 'answer_text': 'answer'})\n",
    "df_val = df_val.reset_index(drop=True)\n",
    "df_val.to_csv('../data/dataset/val.csv', index=False)\n",
    "df_val.info()"
   ],
   "id": "2c0ae6059a8b316d",
   "outputs": [
    {
     "name": "stdout",
     "output_type": "stream",
     "text": [
      "<class 'pandas.core.frame.DataFrame'>\n",
      "RangeIndex: 3419 entries, 0 to 3418\n",
      "Data columns (total 3 columns):\n",
      " #   Column    Non-Null Count  Dtype \n",
      "---  ------    --------------  ----- \n",
      " 0   title     3419 non-null   object\n",
      " 1   question  3419 non-null   object\n",
      " 2   answer    3419 non-null   object\n",
      "dtypes: object(3)\n",
      "memory usage: 80.3+ KB\n"
     ]
    }
   ],
   "execution_count": 16
  },
  {
   "metadata": {},
   "cell_type": "code",
   "outputs": [],
   "execution_count": null,
   "source": "",
   "id": "18bd791f61155881"
  }
 ],
 "metadata": {
  "kernelspec": {
   "display_name": "Python 3",
   "language": "python",
   "name": "python3"
  },
  "language_info": {
   "codemirror_mode": {
    "name": "ipython",
    "version": 2
   },
   "file_extension": ".py",
   "mimetype": "text/x-python",
   "name": "python",
   "nbconvert_exporter": "python",
   "pygments_lexer": "ipython2",
   "version": "2.7.6"
  }
 },
 "nbformat": 4,
 "nbformat_minor": 5
}
